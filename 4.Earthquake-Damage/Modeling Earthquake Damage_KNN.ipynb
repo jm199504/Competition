{
 "cells": [
  {
   "cell_type": "code",
   "execution_count": 2,
   "metadata": {},
   "outputs": [],
   "source": [
    "import warnings\n",
    "warnings.filterwarnings(\"ignore\")\n",
    "from sklearn.model_selection import train_test_split\n",
    "import pandas as pd\n",
    "import numpy as np\n",
    "from sklearn.model_selection import GridSearchCV\n",
    "\n",
    "np.random.seed(0)  \n",
    "train = pd.read_csv('train_dum.csv')\n",
    "test = pd.read_csv('test_dum.csv')\n",
    "from sklearn.preprocessing import StandardScaler\n",
    "X = train.drop(['damage_grade'], axis = 1)\n",
    "y = train['damage_grade']\n",
    "\n",
    "scaler = StandardScaler()\n",
    "X = scaler.fit_transform(X)\n",
    "test = scaler.fit_transform(test)\n",
    "X_train, X_valid, y_train, y_valid = train_test_split(X, y, test_size = 0.33, random_state = 123)"
   ]
  },
  {
   "cell_type": "code",
   "execution_count": null,
   "metadata": {},
   "outputs": [],
   "source": [
    "column_names = train.drop(['damage_grade'], axis = 1)\n",
    "X_train = pd.DataFrame(X_train, columns = column_names.columns)\n",
    "X_test = pd.DataFrame(X_valid, columns = column_names.columns)\n",
    "test = pd.DataFrame(test, columns = column_names.columns)\n",
    "# print(train.columns)\n",
    "# print(train.shape)"
   ]
  },
  {
   "cell_type": "code",
   "execution_count": null,
   "metadata": {},
   "outputs": [],
   "source": [
    "CV = False\n",
    "from sklearn.neighbors import KNeighborsClassifier\n",
    "btest = pd.read_csv('test.csv')\n",
    "weights = ['uniform','distance']\n",
    "n_neighbors = np.arange(1,11,1)\n",
    "p = [2]\n",
    "params = dict(weights = weights, n_neighbors = n_neighbors, p = p)\n",
    "\n",
    "knn_clf = KNeighborsClassifier(algorithm='auto',n_neighbors=10, p=2, weights='distance')# 0.6634\n",
    "if CV:\n",
    "    grid_search = GridSearchCV(knn_clf,params,n_jobs=-1,verbose=2)\n",
    "    grid_search.fit(X_train,y_train)\n",
    "    print(grid_search.best_estimator_)\n",
    "knn_clf.fit(X,y)\n",
    "prediction = knn_clf.predict(test)\n",
    "# print(list(prediction))\n",
    "result = pd.DataFrame()\n",
    "result['building_id'] = btest['building_id']\n",
    "result['damage_grade'] = prediction\n",
    "result.to_csv('prediction_result.csv',index = None)\n",
    "print(\"预测结果已生成！\")"
   ]
  },
  {
   "cell_type": "code",
   "execution_count": null,
   "metadata": {},
   "outputs": [],
   "source": []
  }
 ],
 "metadata": {
  "kernelspec": {
   "display_name": "Python 3",
   "language": "python",
   "name": "python3"
  },
  "language_info": {
   "codemirror_mode": {
    "name": "ipython",
    "version": 3
   },
   "file_extension": ".py",
   "mimetype": "text/x-python",
   "name": "python",
   "nbconvert_exporter": "python",
   "pygments_lexer": "ipython3",
   "version": "3.7.3"
  }
 },
 "nbformat": 4,
 "nbformat_minor": 2
}
