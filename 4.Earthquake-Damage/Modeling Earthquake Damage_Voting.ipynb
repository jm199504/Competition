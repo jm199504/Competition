{
 "cells": [
  {
   "cell_type": "code",
   "execution_count": 1,
   "metadata": {},
   "outputs": [],
   "source": [
    "import numpy as np\n",
    "import pandas as pd\n",
    "from sklearn.ensemble import RandomForestClassifier\n",
    "from sklearn.metrics import f1_score\n",
    "from sklearn.model_selection import RandomizedSearchCV\n",
    "from sklearn.preprocessing import StandardScaler\n",
    "from matplotlib import pyplot as plt\n",
    "from sklearn.model_selection import train_test_split\n",
    "from sklearn.metrics import f1_score\n",
    "from lightgbm import LGBMClassifier\n",
    "from scipy.stats import uniform\n",
    "from sklearn.svm import SVC\n",
    "from sklearn.neighbors import KNeighborsClassifier\n",
    "from sklearn.model_selection import cross_val_score\n",
    "from sklearn.ensemble import VotingClassifier"
   ]
  },
  {
   "cell_type": "code",
   "execution_count": 2,
   "metadata": {},
   "outputs": [
    {
     "name": "stdout",
     "output_type": "stream",
     "text": [
      "(260601, 39)\n",
      "(86868, 38)\n"
     ]
    }
   ],
   "source": [
    "train = pd.read_csv('train.csv', header = 0, index_col= 0)\n",
    "test = pd.read_csv('test.csv', header = 0, index_col= 0)\n",
    "print(train.shape)\n",
    "print(test.shape)"
   ]
  },
  {
   "cell_type": "code",
   "execution_count": 3,
   "metadata": {},
   "outputs": [
    {
     "name": "stdout",
     "output_type": "stream",
     "text": [
      "(174602, 68)\n",
      "(85999, 68)\n",
      "(86868, 68)\n"
     ]
    }
   ],
   "source": [
    "import warnings\n",
    "warnings.filterwarnings(\"ignore\")\n",
    "# get dummy variables\n",
    "train = pd.get_dummies(train)\n",
    "test = pd.get_dummies(test)\n",
    "\n",
    "# create set of dependent variables and independent variables and scale.\n",
    "X = train.drop(['damage_grade'], axis = 1)\n",
    "y = train['damage_grade']\n",
    "\n",
    "scaler = StandardScaler()\n",
    "X = scaler.fit_transform(X)\n",
    "test = scaler.fit_transform(test)\n",
    "\n",
    "# split to test out for f1 score\n",
    "X_train, X_test, y_train, y_test = train_test_split(X, y, test_size = 0.33, random_state = 123)\n",
    "\n",
    "# add column names to x_train and x_test for feature selection process\n",
    "column_names = train.drop(['damage_grade'], axis = 1)\n",
    "X_train = pd.DataFrame(X_train, columns = column_names.columns)\n",
    "X_test = pd.DataFrame(X_test, columns = column_names.columns)\n",
    "test = pd.DataFrame(test, columns = column_names.columns)\n",
    "\n",
    "print(X_train.shape)\n",
    "print(X_test.shape)\n",
    "print(test.shape)"
   ]
  },
  {
   "cell_type": "code",
   "execution_count": null,
   "metadata": {},
   "outputs": [],
   "source": [
    "# Based on the feature importance, new data will be tested\n",
    "select_list = ['geo_level_1_id', \n",
    "                   'geo_level_2_id', \n",
    "                   'geo_level_3_id', \n",
    "                   'age', \n",
    "                   'area_percentage', \n",
    "                   'height_percentage', \n",
    "                   'count_families', \n",
    "                   'foundation_type_r', \n",
    "                   'count_floors_pre_eq', \n",
    "                   'has_superstructure_mud_mortar_stone',\n",
    "                   'has_superstructure_timber',\n",
    "                   'ground_floor_type_v',\n",
    "                   'land_surface_condition_t',\n",
    "                   'land_surface_condition_n',\n",
    "                   'roof_type_n',\n",
    "                   'other_floor_type_q']\n",
    "X_train = X_train[select_list]\n",
    "X_test = X_test[select_list]\n",
    "test = test[select_list]\n",
    "\n",
    "clf1 = LGBMClassifier(max_depth=7, learning_rate=.05)\n",
    "clf2 = KNeighborsClassifier(n_neighbors=7)\n",
    "clf3 = SVC(gamma='scale', kernel='rbf', probability=True)\n",
    "eclf = VotingClassifier(estimators=[('lgbm', clf1), ('knn', clf2), ('svc', clf3)], voting='hard')\n",
    "\n",
    "# clf1 = clf1.fit(X_train, y_train, eval_set=[(X_test, y_test)], early_stopping_rounds = 50, eval_metric = 'logloss')\n",
    "# clf2 = clf2.fit(X_train, y_train)\n",
    "# clf3 = clf3.fit(X_train, y_train)\n",
    "eclf = eclf.fit(X_train, y_train)\n",
    "\n",
    "# for clf, label in zip([clf1, clf2, clf3, eclf], ['LGBM', 'KNN', 'SVC', 'Ensemble']):\n",
    "#     scores = cross_val_score(clf, X, y, cv=5, scoring='accuracy')\n",
    "#     print(\"Accuracy: %0.2f (+/- %0.2f) [%s]\" % (scores.mean(), scores.std(), label))\n",
    "\n",
    "predictions = eclf.predict(test)\n",
    "print(predictions)\n",
    "\n",
    "result = pd.DataFrame()\n",
    "result['building_id'] = btest['building_id']\n",
    "result['damage_grade'] = prediction\n",
    "result.to_csv('lgbm_prediction_result.csv',index = None)\n",
    "print(\"预测结果已生成！\")"
   ]
  },
  {
   "cell_type": "code",
   "execution_count": null,
   "metadata": {},
   "outputs": [],
   "source": []
  }
 ],
 "metadata": {
  "kernelspec": {
   "display_name": "Python 3",
   "language": "python",
   "name": "python3"
  },
  "language_info": {
   "codemirror_mode": {
    "name": "ipython",
    "version": 3
   },
   "file_extension": ".py",
   "mimetype": "text/x-python",
   "name": "python",
   "nbconvert_exporter": "python",
   "pygments_lexer": "ipython3",
   "version": "3.7.3"
  }
 },
 "nbformat": 4,
 "nbformat_minor": 2
}
