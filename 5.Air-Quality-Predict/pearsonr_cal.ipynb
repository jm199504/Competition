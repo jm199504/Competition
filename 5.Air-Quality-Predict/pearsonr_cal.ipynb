{
 "cells": [
  {
   "cell_type": "code",
   "execution_count": 1,
   "metadata": {},
   "outputs": [],
   "source": [
    "import os\n",
    "import pandas as pd\n",
    "from scipy.stats import pearsonr"
   ]
  },
  {
   "cell_type": "code",
   "execution_count": 9,
   "metadata": {},
   "outputs": [],
   "source": [
    "# 计算皮尔逊相关系数\n",
    "path1 = \"train_龙泉驿区政府.csv\"\n",
    "paths = os.listdir(\"train/\")\n",
    "paths.remove(path1)\n",
    "\n",
    "rc1,rc2 = pd.read_csv(path1)[feature][:length],pd.read_csv(path2)[feature][:length]\n",
    "pcc = pearsonr(rc1,rc2)[0]\n",
    "\n",
    "# print(pcc)"
   ]
  },
  {
   "cell_type": "code",
   "execution_count": null,
   "metadata": {},
   "outputs": [],
   "source": [
    " columns = list(data.columns)\n",
    "    for c in columns:\n",
    "        data[c] = data[c].fillna(method='pad')"
   ]
  },
  {
   "cell_type": "code",
   "execution_count": 25,
   "metadata": {},
   "outputs": [
    {
     "name": "stdout",
     "output_type": "stream",
     "text": [
      "train_三瓦窑.csv 0.8080833079769076\n",
      "train_十里店.csv 0.7968466565523167\n",
      "train_君平街.csv 0.7186117342463354\n",
      "train_大石西路.csv 0.8379458203609564\n",
      "train_沙河铺.csv 0.8442562376238305\n",
      "train_灵岩寺.csv 0.556602677697897\n",
      "train_金泉两河.csv 0.7614648172439545\n",
      "train_龙泉驿区政府.csv 0.9769488489066922\n"
     ]
    }
   ],
   "source": [
    "start1 = \"2017/10/30 14:00:00\"\n",
    "start2 = \"2017/10/30 14:00\"\n",
    "end1 = \"2017/12/24 23:00:00\"\n",
    "end2 = \"2017/12/24 23:00\"\n",
    "target = pd.read_csv(\"train/\"+path1)\n",
    "for path in paths:\n",
    "    file = pd.read_csv(\"train/\"+path)\n",
    "    columns = list(file.columns)\n",
    "    for c in columns:\n",
    "        file[c] = file[c].fillna(method='pad')    \n",
    "    start_index,end_index = 0,0\n",
    "    for i in range(len(file)):\n",
    "        if file[\"DATA_TIME_\"][i] == start1 or file[\"DATA_TIME_\"][i] == start2:\n",
    "            start_index = i\n",
    "        if file[\"DATA_TIME_\"][i] == end1 or file[\"DATA_TIME_\"][i] == end2:\n",
    "            end_index = i\n",
    "#     print(path,start_index,end_index,end_index-start_index)\n",
    "    \n",
    "    \n",
    "    temp = file[\"AQI_\"][start_index:end_index][-1313:]\n",
    "    \n",
    "    for c in list(target.columns):\n",
    "        target[c] = target[c].fillna(method='pad')   \n",
    "    target_temp = target[\"AQI_\"][-1313:]\n",
    "    pcc = pearsonr(temp,target_temp)[0]\n",
    "    print(path,pcc)"
   ]
  },
  {
   "cell_type": "code",
   "execution_count": null,
   "metadata": {},
   "outputs": [],
   "source": []
  }
 ],
 "metadata": {
  "kernelspec": {
   "display_name": "Python 3",
   "language": "python",
   "name": "python3"
  },
  "language_info": {
   "codemirror_mode": {
    "name": "ipython",
    "version": 3
   },
   "file_extension": ".py",
   "mimetype": "text/x-python",
   "name": "python",
   "nbconvert_exporter": "python",
   "pygments_lexer": "ipython3",
   "version": "3.7.4"
  }
 },
 "nbformat": 4,
 "nbformat_minor": 2
}
