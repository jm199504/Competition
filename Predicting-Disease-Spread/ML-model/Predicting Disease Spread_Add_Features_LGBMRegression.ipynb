{
 "cells": [
  {
   "cell_type": "code",
   "execution_count": 295,
   "metadata": {},
   "outputs": [],
   "source": [
    "import pandas as pd\n",
    "features = pd.read_csv('data-processed\\\\dengue_features_train.csv')\n",
    "labels = pd.read_csv('data-processed\\\\dengue_labels_train.csv')\n",
    "test = pd.read_csv('data-processed\\\\dengue_features_test.csv')\n",
    "features = features.merge(labels,how='inner')"
   ]
  },
  {
   "cell_type": "code",
   "execution_count": 296,
   "metadata": {},
   "outputs": [],
   "source": [
    "iq_train,sj_train = features[features.city == 'iq'],features[features.city == 'sj']\n",
    "iq_test,sj_test = test[test.city == 'iq'],test[test.city == 'sj']\n",
    "iq_label,sj_label = labels[labels.city == 'iq'],labels[labels.city == 'sj']\n",
    "# iq_train.head()"
   ]
  },
  {
   "cell_type": "code",
   "execution_count": 297,
   "metadata": {},
   "outputs": [],
   "source": [
    "# iq_train.describe()"
   ]
  },
  {
   "cell_type": "code",
   "execution_count": 298,
   "metadata": {},
   "outputs": [],
   "source": [
    "# 统计各列的缺失值数量\n",
    "# print(len(iq_train['city']))\n",
    "# iq_train.isna().sum()\n",
    "# print(len(sj_train['city']))\n",
    "# sj_train.isna().sum()"
   ]
  },
  {
   "cell_type": "code",
   "execution_count": 299,
   "metadata": {},
   "outputs": [],
   "source": [
    "import warnings\n",
    "warnings.filterwarnings(\"ignore\")\n",
    "# 方法一：填补训练集缺失值\n",
    "# iq_train.fillna(method='ffill',inplace=True)\n",
    "# sj_train.fillna(method='ffill',inplace=True)\n",
    "\n",
    "# 方法二：填补训练集缺失值\n",
    "import warnings\n",
    "warnings.filterwarnings(\"ignore\")\n",
    "import numpy as np\n",
    "iq_train = iq_train.replace(to_replace=np.nan,value=0)\n",
    "sj_train = sj_train.replace(to_replace=np.nan,value=0)\n",
    "\n",
    "\n",
    "for column in iq_test.columns:\n",
    "    for i in list(iq_test.index):\n",
    "        if iq_test[column][i] == 0:\n",
    "            temp_list = list()\n",
    "            for m in list(iq_test.index):\n",
    "                if iq_test[column][m]>0:\n",
    "                    temp_list.append(iq_test[column][m])\n",
    "            iq_test[column][i] = np.mean(temp_list) + np.random.choice(np.arange(-np.std(temp_list,ddof=1), np.std(temp_list,ddof=1), 0.01))\n",
    "                \n",
    "for column in sj_test.columns:\n",
    "        for i in list(sj_test.index):\n",
    "            if sj_test[column][i] == 0:\n",
    "                temp_list = list()\n",
    "                for m in list(sj_test.index):\n",
    "                    if sj_test[column][m]>0:\n",
    "                        temp_list.append(sj_test[column][m])\n",
    "                sj_test[column][i] = np.mean(temp_list) + np.random.choice(np.arange(-np.std(temp_list,ddof=1), np.std(temp_list,ddof=1), 0.01))\n",
    "\n",
    "# 方法三：均值插值法\n",
    "# for f in iq_train.columns:\n",
    "#     iq_train[f] = iq_train[f].interpolate(method='slinear')\n",
    "# for f in sj_train.columns:\n",
    "#     sj_train[f] = sj_train[f].interpolate(method='slinear')\n",
    "    \n",
    "# 方法四：KNN插值法（模块安装失败）\n",
    "# from fancyimpute import KNN\n",
    "# fill_knn = KNN(k=3).fit_transform(iq_train)\n",
    "# iq_train = pd.DataFrame(fill_knn)\n",
    "\n",
    "# fill_knn = KNN(k=3).fit_transform(sj_train)\n",
    "# sj_train = pd.DataFrame(fill_knn)"
   ]
  },
  {
   "cell_type": "code",
   "execution_count": 300,
   "metadata": {},
   "outputs": [],
   "source": [
    "# 方法一：填补测试集缺失值\n",
    "# iq_test.fillna(method='ffill',inplace=True)\n",
    "# sj_test.fillna(method='ffill',inplace=True)\n",
    "\n",
    "# 方法二：填补测试集缺失值\n",
    "import warnings\n",
    "warnings.filterwarnings(\"ignore\")\n",
    "import numpy as np\n",
    "iq_test = iq_test.replace(to_replace=np.nan,value=0)\n",
    "sj_test = sj_test.replace(to_replace=np.nan,value=0)\n",
    "\n",
    "for column in iq_test.columns:\n",
    "    for i in list(iq_test.index):\n",
    "        if iq_test[column][i] == 0:\n",
    "            temp_list = list()\n",
    "            for m in list(iq_test.index):\n",
    "                if iq_test[column][m]>0:\n",
    "                    temp_list.append(iq_test[column][m])\n",
    "            iq_test[column][i] = np.mean(temp_list) + np.random.choice(np.arange(-np.std(temp_list,ddof=1), np.std(temp_list,ddof=1), 0.01))\n",
    "\n",
    "for column in sj_test.columns:\n",
    "        for i in list(sj_test.index):\n",
    "            if sj_test[column][i] == 0:\n",
    "                temp_list = list()\n",
    "                for m in list(sj_test.index):\n",
    "                    if sj_test[column][m]>0:\n",
    "                        temp_list.append(sj_test[column][m])\n",
    "                sj_test[column][i] = np.mean(temp_list) + np.random.choice(np.arange(-np.std(temp_list,ddof=1), np.std(temp_list,ddof=1), 0.01))\n",
    "\n",
    "# 方法三：标准插值法\n",
    "for f in iq_test.columns:\n",
    "    iq_test[f] = iq_test[f].interpolate(method='slinear')\n",
    "for f in sj_test.columns:\n",
    "    sj_test[f] = sj_test[f].interpolate(method='slinear')\n",
    "    \n",
    "# # 方法四：KNN插值法（模块安装失败）\n",
    "# from fancyimpute import KNN\n",
    "# fill_knn = KNN(k=3).fit_transform(iq_test)\n",
    "# iq_test = pd.DataFrame(fill_knn)\n",
    "\n",
    "# fill_knn = KNN(k=3).fit_transform(sj_test)\n",
    "# sj_test = pd.DataFrame(fill_knn)"
   ]
  },
  {
   "cell_type": "code",
   "execution_count": 301,
   "metadata": {},
   "outputs": [],
   "source": [
    "# print(sum(iq_train.isna().sum()))\n",
    "# print(sum(sj_train.isna().sum()))"
   ]
  },
  {
   "cell_type": "code",
   "execution_count": 302,
   "metadata": {},
   "outputs": [],
   "source": [
    "# 特征添加\n",
    "def add_features(data,week):\n",
    "    features = list(data.columns)\n",
    "    remove_list = list()\n",
    "    for i in ['city','year','weekofyear','week_start_date','total_cases']:\n",
    "        if i in features:\n",
    "            remove_list.append(i)\n",
    "    for j in remove_list:\n",
    "        features.remove(j)\n",
    "    # 前week周的数据特征\n",
    "    for w in range(week):\n",
    "        for f in features:\n",
    "            data[str(w+1)+'-'+f] = data.groupby('city')[f].shift(w+1)\n",
    "    # 填补前week空白数据特征\n",
    "    for i in range(data.index[0],data.index[0]+week):\n",
    "        for f in data.columns:\n",
    "            if pd.isnull(data[f][i]):\n",
    "                if not pd.isnull(data['1'+f[1:]][i]):\n",
    "                    data[f][i] = data['1'+f[1:]][i]\n",
    "                else:\n",
    "                    data[f][i] = data[f[2:]][i]\n",
    "    # 其他新特征\n",
    "    air_temp_diff1 = list()\n",
    "    air_temp_diff2 = list()\n",
    "    total_ndvi = list()\n",
    "    air_temp_avg1 = list()\n",
    "    air_temp_avg2 = list()\n",
    "    air_temp_avg3 = list()\n",
    "    precip_avg1 = list()\n",
    "    precip_avg2 = list()\n",
    "    precip_avg3 = list()\n",
    "    humidity_avg1 = list()\n",
    "    humidity_avg2 = list()\n",
    "    point_avg = list()\n",
    "    tdtr_avg = list()\n",
    "    diur_avg = list()\n",
    "    ndvi_se_avg = list()\n",
    "    ndvi_sw_avg = list()\n",
    "    ndvi_ne_avg = list()\n",
    "    ndvi_nw_avg = list()\n",
    "\n",
    "    air_temp_avg_value1 = np.mean(data['reanalysis_avg_temp_k'])\n",
    "    air_temp_avg_value2 = np.mean(data['station_avg_temp_c'])\n",
    "    air_temp_avg_value3 = np.mean(data['reanalysis_air_temp_k'])\n",
    "\n",
    "    precip_avg_value1 = np.mean(data['reanalysis_sat_precip_amt_mm'])\n",
    "    precip_avg_value2 = np.mean(data['reanalysis_precip_amt_kg_per_m2'])\n",
    "    precip_avg_value3 = np.mean(data['station_precip_mm'])\n",
    "\n",
    "    humidity_avg_value1 = np.mean(data['reanalysis_relative_humidity_percent'])\n",
    "    humidity_avg_value2 = np.mean(data['reanalysis_specific_humidity_g_per_kg'])\n",
    "\n",
    "    point_avg_value = np.mean(data['reanalysis_dew_point_temp_k'])\n",
    "\n",
    "    tdtr_avg_value = np.mean(data['reanalysis_tdtr_k'])\n",
    "    diur_avg_value = np.mean(data['station_diur_temp_rng_c'])\n",
    "    \n",
    "    ndvi_se_avg_value = np.mean(data['ndvi_se'])\n",
    "    ndvi_sw_avg_value = np.mean(data['ndvi_sw'])\n",
    "    ndvi_ne_avg_value = np.mean(data['ndvi_ne'])\n",
    "    ndvi_nw_avg_value = np.mean(data['ndvi_nw'])\n",
    "\n",
    "    for i in list(data.index):\n",
    "        # (温差1)\n",
    "        air_temp_diff1.append(data['reanalysis_max_air_temp_k'][i]-data['reanalysis_min_air_temp_k'][i])\n",
    "        # (温差2)\n",
    "        air_temp_diff2.append(data['station_max_temp_c'][i]-data['station_min_temp_c'][i])\n",
    "        # (植被总和)\n",
    "        temp_sum = data['ndvi_se'][i]+data['ndvi_sw'][i]+data['ndvi_ne'][i]+data['ndvi_nw'][i]\n",
    "        total_ndvi.append(temp_sum)\n",
    "        # (与均温差)\n",
    "        air_temp_avg1.append(data['reanalysis_avg_temp_k'][i]-air_temp_avg_value1)\n",
    "        air_temp_avg2.append(data['station_avg_temp_c'][i]-air_temp_avg_value2)\n",
    "        air_temp_avg3.append(data['reanalysis_air_temp_k'][i]-air_temp_avg_value3)\n",
    "        # (与均降水差)\n",
    "        precip_avg1.append(data['reanalysis_sat_precip_amt_mm'][i]-precip_avg_value1)\n",
    "        precip_avg2.append(data['reanalysis_precip_amt_kg_per_m2'][i]-precip_avg_value2)\n",
    "        precip_avg3.append(data['station_precip_mm'][i]-precip_avg_value3)\n",
    "        # (与均湿度差)\n",
    "        humidity_avg1.append(data['reanalysis_relative_humidity_percent'][i]-humidity_avg_value1)\n",
    "        humidity_avg2.append(data['reanalysis_specific_humidity_g_per_kg'][i]-humidity_avg_value2)\n",
    "        # (与均露点差)\n",
    "        point_avg.append(data['reanalysis_dew_point_temp_k'][i]-point_avg_value)\n",
    "        # (与均温差日较差)tdtr\n",
    "        tdtr_avg.append(data['reanalysis_tdtr_k'][i]-tdtr_avg_value)\n",
    "        # (与均温差日较差)diur\n",
    "        diur_avg.append(data['station_diur_temp_rng_c'][i]-diur_avg_value)\n",
    "        # 植被均差\n",
    "        ndvi_se_avg.append(data['ndvi_se'][i]-ndvi_se_avg_value)\n",
    "        ndvi_sw_avg.append(data['ndvi_sw'][i]-ndvi_sw_avg_value)\n",
    "        ndvi_ne_avg.append(data['ndvi_ne'][i]-ndvi_ne_avg_value)\n",
    "        ndvi_nw_avg.append(data['ndvi_nw'][i]-ndvi_nw_avg_value)\n",
    "\n",
    "    data['air_temp_diff1'] = air_temp_diff1\n",
    "    data['air_temp_diff2'] = air_temp_diff2\n",
    "    data['total_ndvi'] = total_ndvi\n",
    "    data['air_temp_avg1'] = air_temp_avg1 \n",
    "    data['air_temp_avg2'] = air_temp_avg2\n",
    "    data['air_temp_avg3'] = air_temp_avg3 \n",
    "    data['precip_avg1'] = precip_avg1 \n",
    "    data['precip_avg2'] = precip_avg2\n",
    "    data['precip_avg3'] = precip_avg3\n",
    "    data['humidity_avg1'] = humidity_avg1 \n",
    "    data['humidity_avg2'] = humidity_avg2 \n",
    "    data['point_avg'] = point_avg \n",
    "    data['tdtr_avg'] = tdtr_avg \n",
    "    data['diur_avg'] = diur_avg\n",
    "    data['ndvi_se_avg'] = ndvi_se_avg\n",
    "    data['ndvi_sw_avg'] = ndvi_sw_avg\n",
    "    data['ndvi_ne_avg'] = ndvi_ne_avg\n",
    "    data['ndvi_nw_avg'] = ndvi_nw_avg\n",
    "    return data"
   ]
  },
  {
   "cell_type": "code",
   "execution_count": 303,
   "metadata": {},
   "outputs": [],
   "source": [
    "import warnings\n",
    "warnings.filterwarnings(\"ignore\")\n",
    "import numpy as np\n",
    "week = 3\n",
    "iq_train = add_features(iq_train,week)\n",
    "sj_train = add_features(sj_train,week)\n",
    "iq_test = add_features(iq_test,week)\n",
    "sj_test = add_features(sj_test,week)"
   ]
  },
  {
   "cell_type": "code",
   "execution_count": 304,
   "metadata": {
    "scrolled": true
   },
   "outputs": [],
   "source": [
    "# print(sum(iq_train.isna().sum()))\n",
    "# print(sum(sj_train.isna().sum()))"
   ]
  },
  {
   "cell_type": "code",
   "execution_count": 305,
   "metadata": {},
   "outputs": [],
   "source": [
    "from sklearn.ensemble import RandomForestRegressor\n",
    "import matplotlib.pyplot as plt\n",
    "# use random forest for feature selection\n",
    "rfc = RandomForestRegressor()"
   ]
  },
  {
   "cell_type": "code",
   "execution_count": 306,
   "metadata": {},
   "outputs": [
    {
     "data": {
      "text/plain": [
       "<matplotlib.axes._subplots.AxesSubplot at 0x1f5b3f7f748>"
      ]
     },
     "execution_count": 306,
     "metadata": {},
     "output_type": "execute_result"
    },
    {
     "data": {
      "image/png": "[encoded data removed]",
      "text/plain": [
       "<Figure size 2160x504 with 1 Axes>"
      ]
     },
     "metadata": {
      "needs_background": "light"
     },
     "output_type": "display_data"
    }
   ],
   "source": [
    "iq_df = iq_train.drop(['city', 'year', 'weekofyear', 'week_start_date','total_cases'], axis = 1)\n",
    "sj_df = sj_train.drop(['city', 'year', 'weekofyear', 'week_start_date','total_cases'], axis = 1)\n",
    "\n",
    "iq_test_df = iq_test.drop(['city', 'year', 'weekofyear', 'week_start_date'], axis = 1)\n",
    "sj_test_df = sj_test.drop(['city', 'year', 'weekofyear', 'week_start_date'], axis = 1)\n",
    "\n",
    "from sklearn.preprocessing import MinMaxScaler\n",
    "from sklearn.preprocessing import StandardScaler\n",
    "\n",
    "# 特征归一化\n",
    "# scaler = StandardScaler()\n",
    "scaler = MinMaxScaler(feature_range=(0, 1))\n",
    "\n",
    "iq_temp_train_values = scaler.fit_transform(iq_df)\n",
    "iq_df = pd.DataFrame(iq_temp_train_values, columns = iq_df.columns)\n",
    "\n",
    "sj_temp_train_values = scaler.fit_transform(sj_df)\n",
    "sj_df = pd.DataFrame(sj_temp_train_values, columns = sj_df.columns)\n",
    "\n",
    "iq_temp_test_values = scaler.fit_transform(iq_test_df)\n",
    "iq_test_df = pd.DataFrame(iq_temp_test_values, columns = iq_test_df.columns)\n",
    "\n",
    "sj_temp_test_values = scaler.fit_transform(sj_test_df)\n",
    "sj_test_df = pd.DataFrame(sj_temp_test_values, columns = sj_test_df.columns)\n",
    "\n",
    "iq_df = pd.DataFrame(iq_df, columns = iq_df.columns)\n",
    "sj_df = pd.DataFrame(sj_df, columns = sj_df.columns)\n",
    "iq_test_df = pd.DataFrame(iq_test_df, columns = iq_test_df.columns)\n",
    "sj_test_df = pd.DataFrame(sj_test_df, columns = sj_test_df.columns)\n",
    "\n",
    "rfc.fit(iq_df, iq_label['total_cases'])\n",
    "# print(rfc.feature_importances_)\n",
    "plt.figure(figsize=(30, 7))\n",
    "features = pd.Series(rfc.feature_importances_, index= iq_df.columns)\n",
    "features.nlargest(20).plot(kind = 'bar', color = 'r')\n",
    "# plt.show()"
   ]
  },
  {
   "cell_type": "code",
   "execution_count": 307,
   "metadata": {
    "scrolled": false
   },
   "outputs": [
    {
     "name": "stdout",
     "output_type": "stream",
     "text": [
      "98\n",
      "air_temp_diff2                             0.052606\n",
      "3-station_max_temp_c                       0.038507\n",
      "2-station_max_temp_c                       0.033259\n",
      "reanalysis_min_air_temp_k                  0.033239\n",
      "1-ndvi_sw                                  0.032891\n",
      "3-station_avg_temp_c                       0.031756\n",
      "reanalysis_specific_humidity_g_per_kg      0.029351\n",
      "1-reanalysis_sat_precip_amt_mm             0.026718\n",
      "2-reanalysis_min_air_temp_k                0.026172\n",
      "3-reanalysis_avg_temp_k                    0.024410\n",
      "ndvi_sw                                    0.023650\n",
      "1-ndvi_nw                                  0.023447\n",
      "3-station_min_temp_c                       0.022596\n",
      "1-station_min_temp_c                       0.022484\n",
      "humidity_avg2                              0.021876\n",
      "3-reanalysis_tdtr_k                        0.019482\n",
      "1-ndvi_ne                                  0.019005\n",
      "1-reanalysis_min_air_temp_k                0.015867\n",
      "air_temp_diff1                             0.015073\n",
      "3-ndvi_se                                  0.014870\n",
      "1-station_avg_temp_c                       0.014759\n",
      "1-station_max_temp_c                       0.014515\n",
      "2-station_avg_temp_c                       0.014311\n",
      "1-ndvi_se                                  0.014015\n",
      "air_temp_avg3                              0.013268\n",
      "1-station_diur_temp_rng_c                  0.013251\n",
      "2-precipitation_amt_mm                     0.012773\n",
      "2-reanalysis_tdtr_k                        0.012504\n",
      "3-station_diur_temp_rng_c                  0.012431\n",
      "station_avg_temp_c                         0.012008\n",
      "                                             ...   \n",
      "3-ndvi_sw                                  0.006104\n",
      "3-station_precip_mm                        0.006010\n",
      "2-station_diur_temp_rng_c                  0.005843\n",
      "2-reanalysis_specific_humidity_g_per_kg    0.005784\n",
      "station_max_temp_c                         0.005784\n",
      "2-reanalysis_relative_humidity_percent     0.005673\n",
      "3-ndvi_nw                                  0.005603\n",
      "1-reanalysis_precip_amt_kg_per_m2          0.005558\n",
      "air_temp_avg2                              0.005515\n",
      "1-reanalysis_air_temp_k                    0.005478\n",
      "1-reanalysis_dew_point_temp_k              0.005364\n",
      "2-station_precip_mm                        0.005146\n",
      "2-reanalysis_max_air_temp_k                0.005087\n",
      "1-reanalysis_tdtr_k                        0.004771\n",
      "precip_avg1                                0.004675\n",
      "ndvi_nw                                    0.004546\n",
      "ndvi_se                                    0.004381\n",
      "air_temp_avg1                              0.004244\n",
      "3-reanalysis_precip_amt_kg_per_m2          0.004039\n",
      "reanalysis_sat_precip_amt_mm               0.003951\n",
      "3-reanalysis_relative_humidity_percent     0.003825\n",
      "3-reanalysis_dew_point_temp_k              0.003823\n",
      "ndvi_ne_avg                                0.003705\n",
      "humidity_avg1                              0.003630\n",
      "2-ndvi_ne                                  0.003506\n",
      "2-ndvi_nw                                  0.003448\n",
      "2-ndvi_se                                  0.003225\n",
      "reanalysis_air_temp_k                      0.003198\n",
      "tdtr_avg                                   0.003032\n",
      "reanalysis_precip_amt_kg_per_m2            0.002997\n",
      "Length: 80, dtype: float64\n"
     ]
    },
    {
     "data": {
      "text/plain": [
       "Index(['air_temp_diff2', '3-station_max_temp_c', '2-station_max_temp_c',\n",
       "       'reanalysis_min_air_temp_k', '1-ndvi_sw', '3-station_avg_temp_c',\n",
       "       'reanalysis_specific_humidity_g_per_kg',\n",
       "       '1-reanalysis_sat_precip_amt_mm', '2-reanalysis_min_air_temp_k',\n",
       "       '3-reanalysis_avg_temp_k', 'ndvi_sw', '1-ndvi_nw',\n",
       "       '3-station_min_temp_c', '1-station_min_temp_c', 'humidity_avg2',\n",
       "       '3-reanalysis_tdtr_k', '1-ndvi_ne', '1-reanalysis_min_air_temp_k',\n",
       "       'air_temp_diff1', '3-ndvi_se', '1-station_avg_temp_c',\n",
       "       '1-station_max_temp_c', '2-station_avg_temp_c', '1-ndvi_se',\n",
       "       'air_temp_avg3', '1-station_diur_temp_rng_c', '2-precipitation_amt_mm',\n",
       "       '2-reanalysis_tdtr_k', '3-station_diur_temp_rng_c',\n",
       "       'station_avg_temp_c', 'reanalysis_max_air_temp_k', 'ndvi_se_avg',\n",
       "       '2-reanalysis_avg_temp_k', '3-reanalysis_min_air_temp_k',\n",
       "       'precipitation_amt_mm', '1-reanalysis_max_air_temp_k',\n",
       "       '2-reanalysis_dew_point_temp_k', '2-station_min_temp_c',\n",
       "       '3-reanalysis_max_air_temp_k', '1-station_precip_mm', 'precip_avg2',\n",
       "       '2-ndvi_sw', 'reanalysis_relative_humidity_percent',\n",
       "       '3-reanalysis_air_temp_k', '3-ndvi_ne',\n",
       "       '1-reanalysis_specific_humidity_g_per_kg',\n",
       "       '1-reanalysis_relative_humidity_percent', '2-reanalysis_air_temp_k',\n",
       "       '2-reanalysis_precip_amt_kg_per_m2', 'diur_avg', '3-ndvi_sw',\n",
       "       '3-station_precip_mm', '2-station_diur_temp_rng_c',\n",
       "       '2-reanalysis_specific_humidity_g_per_kg', 'station_max_temp_c',\n",
       "       '2-reanalysis_relative_humidity_percent', '3-ndvi_nw',\n",
       "       '1-reanalysis_precip_amt_kg_per_m2', 'air_temp_avg2',\n",
       "       '1-reanalysis_air_temp_k', '1-reanalysis_dew_point_temp_k',\n",
       "       '2-station_precip_mm', '2-reanalysis_max_air_temp_k',\n",
       "       '1-reanalysis_tdtr_k', 'precip_avg1', 'ndvi_nw', 'ndvi_se',\n",
       "       'air_temp_avg1', '3-reanalysis_precip_amt_kg_per_m2',\n",
       "       'reanalysis_sat_precip_amt_mm',\n",
       "       '3-reanalysis_relative_humidity_percent',\n",
       "       '3-reanalysis_dew_point_temp_k', 'ndvi_ne_avg', 'humidity_avg1',\n",
       "       '2-ndvi_ne', '2-ndvi_nw', '2-ndvi_se', 'reanalysis_air_temp_k',\n",
       "       'tdtr_avg', 'reanalysis_precip_amt_kg_per_m2'],\n",
       "      dtype='object')"
      ]
     },
     "execution_count": 307,
     "metadata": {},
     "output_type": "execute_result"
    }
   ],
   "source": [
    "print(len(list(iq_df.columns)))\n",
    "print(features.nlargest(80))\n",
    "features.nlargest(80).index"
   ]
  },
  {
   "cell_type": "code",
   "execution_count": 308,
   "metadata": {},
   "outputs": [],
   "source": [
    "iq_features = ['air_temp_diff2', '3-reanalysis_tdtr_k', '1-station_avg_temp_c',\n",
    "       '1-station_max_temp_c', '3-station_diur_temp_rng_c',\n",
    "       '3-station_max_temp_c', '1-reanalysis_specific_humidity_g_per_kg',\n",
    "       '3-station_precip_mm', 'reanalysis_specific_humidity_g_per_kg',\n",
    "       '1-reanalysis_min_air_temp_k', 'reanalysis_min_air_temp_k']"
   ]
  },
  {
   "cell_type": "code",
   "execution_count": 309,
   "metadata": {},
   "outputs": [
    {
     "data": {
      "text/plain": [
       "<matplotlib.axes._subplots.AxesSubplot at 0x1f5b3f3d748>"
      ]
     },
     "execution_count": 309,
     "metadata": {},
     "output_type": "execute_result"
    },
    {
     "data": {
      "image/png": "[encoded data removed]",
      "text/plain": [
       "<Figure size 2160x504 with 1 Axes>"
      ]
     },
     "metadata": {
      "needs_background": "light"
     },
     "output_type": "display_data"
    }
   ],
   "source": [
    "rfc.fit(sj_df, sj_label['total_cases'])\n",
    "plt.figure(figsize=(30, 7))\n",
    "features = pd.Series(rfc.feature_importances_, index= sj_df.columns)\n",
    "features.nlargest(20).plot(kind = 'bar', color = 'r')\n",
    "# plt.show()"
   ]
  },
  {
   "cell_type": "code",
   "execution_count": 310,
   "metadata": {
    "scrolled": false
   },
   "outputs": [
    {
     "name": "stdout",
     "output_type": "stream",
     "text": [
      "98\n",
      "ndvi_se_avg                                0.213273\n",
      "ndvi_sw                                    0.081863\n",
      "1-ndvi_se                                  0.048985\n",
      "ndvi_se                                    0.037644\n",
      "precip_avg1                                0.031044\n",
      "1-reanalysis_dew_point_temp_k              0.029311\n",
      "reanalysis_dew_point_temp_k                0.027968\n",
      "point_avg                                  0.027658\n",
      "3-reanalysis_specific_humidity_g_per_kg    0.026845\n",
      "3-reanalysis_max_air_temp_k                0.023691\n",
      "reanalysis_air_temp_k                      0.020112\n",
      "1-station_avg_temp_c                       0.019346\n",
      "3-reanalysis_dew_point_temp_k              0.016900\n",
      "reanalysis_specific_humidity_g_per_kg      0.016862\n",
      "2-reanalysis_dew_point_temp_k              0.013523\n",
      "3-station_avg_temp_c                       0.013257\n",
      "1-station_diur_temp_rng_c                  0.013096\n",
      "3-reanalysis_min_air_temp_k                0.012045\n",
      "2-station_precip_mm                        0.011562\n",
      "3-ndvi_nw                                  0.011317\n",
      "dtype: float64\n"
     ]
    },
    {
     "data": {
      "text/plain": [
       "Index(['ndvi_se_avg', 'ndvi_sw', '1-ndvi_se', 'ndvi_se', 'precip_avg1',\n",
       "       '1-reanalysis_dew_point_temp_k', 'reanalysis_dew_point_temp_k',\n",
       "       'point_avg', '3-reanalysis_specific_humidity_g_per_kg',\n",
       "       '3-reanalysis_max_air_temp_k', 'reanalysis_air_temp_k',\n",
       "       '1-station_avg_temp_c', '3-reanalysis_dew_point_temp_k',\n",
       "       'reanalysis_specific_humidity_g_per_kg',\n",
       "       '2-reanalysis_dew_point_temp_k', '3-station_avg_temp_c',\n",
       "       '1-station_diur_temp_rng_c', '3-reanalysis_min_air_temp_k',\n",
       "       '2-station_precip_mm', '3-ndvi_nw'],\n",
       "      dtype='object')"
      ]
     },
     "execution_count": 310,
     "metadata": {},
     "output_type": "execute_result"
    }
   ],
   "source": [
    "print(len(list(sj_df.columns)))\n",
    "print(features.nlargest(20))\n",
    "features.nlargest(20).index"
   ]
  },
  {
   "cell_type": "code",
   "execution_count": 311,
   "metadata": {},
   "outputs": [],
   "source": [
    "sj_features = ['ndvi_sw', 'ndvi_se', 'point_avg','3-station_avg_temp_c','station_avg_temp_c', 'station_min_temp_c'\n",
    "       'reanalysis_specific_humidity_g_per_kg', '1-station_max_temp_c',\n",
    "       '3-reanalysis_dew_point_temp_k', '2-reanalysis_dew_point_temp_k']"
   ]
  },
  {
   "cell_type": "code",
   "execution_count": 312,
   "metadata": {},
   "outputs": [],
   "source": [
    "from sklearn.ensemble import GradientBoostingRegressor\n",
    "from sklearn.ensemble import RandomForestRegressor\n",
    "from lightgbm import LGBMRegressor\n",
    "import catboost as cb\n",
    "from sklearn.svm import SVR\n",
    "from sklearn.model_selection import GridSearchCV\n",
    "from sklearn.pipeline import Pipeline\n",
    "import xgboost as xgb\n",
    "import catboost as cb"
   ]
  },
  {
   "cell_type": "code",
   "execution_count": 313,
   "metadata": {},
   "outputs": [],
   "source": [
    "# numr = 0\n",
    "# maxv = np.mean(iq_train['total_cases'])+5*np.std(iq_train['total_cases'], ddof=1)\n",
    "# for i in iq_train['total_cases']:\n",
    "#     if i >=maxv:\n",
    "#         numr +=1\n",
    "# print(numr)\n",
    "# for i in range(numr):\n",
    "#     iq_train = iq_train.drop(index=[np.argmax(iq_train['total_cases'])])\n",
    "    \n",
    "# numr = 0\n",
    "# maxv = np.mean(sj_train['total_cases'])+5*np.std(sj_train['total_cases'], ddof=1)\n",
    "# for i in sj_train['total_cases']:\n",
    "#     if i >=maxv:\n",
    "#         numr +=1\n",
    "# print(numr)\n",
    "# for i in range(numr):\n",
    "#     sj_train = sj_train.drop(index=[np.argmax(sj_train['total_cases'])])    "
   ]
  },
  {
   "cell_type": "code",
   "execution_count": 314,
   "metadata": {},
   "outputs": [],
   "source": [
    "# LGBMRegressor                 25.5385\n",
    "# RandomForestRegressor         25.4856\n",
    "# SVR                           27.3077\n",
    "# GradientBoostingRegressor     26.1659\n",
    "# XGBOOST                       26.1202\n",
    "# CatBoostRegressor             25.2981"
   ]
  },
  {
   "cell_type": "code",
   "execution_count": 315,
   "metadata": {},
   "outputs": [
    {
     "name": "stdout",
     "output_type": "stream",
     "text": [
      "{'max_depth': 3, 'min_samples_leaf': 2, 'min_samples_split': 2}\n"
     ]
    }
   ],
   "source": [
    "import warnings\n",
    "warnings.filterwarnings(\"ignore\")\n",
    "iq_lgbm = LGBMRegressor()\n",
    "iq_param_grid = {'max_depth': [3, 4, 5, 6,7],'min_samples_leaf': np.arange(2,6,1),'min_samples_split':np.arange(2,6,1)}\n",
    "iq_gs = GridSearchCV(estimator=iq_lgbm,param_grid=iq_param_grid,cv=3)\n",
    "\n",
    "# iq_rf = RandomForestRegressor()\n",
    "# iq_param_grid = {'n_estimators':np.arange(100,400,100),'min_samples_leaf':np.arange(2,6,2),'max_depth':[3,4,5,6]}\n",
    "# iq_gs = GridSearchCV(estimator=iq_rf,param_grid=iq_param_grid,cv=3)\n",
    "\n",
    "# iq_svr = SVR()\n",
    "# iq_param_grid = {'C':[1,10,100,1000],'kernel':['rbf'],'gamma':[0.0001,0.001,0.005,0.01]}\n",
    "# iq_gs = GridSearchCV(estimator=iq_svr,param_grid=iq_param_grid,cv=3)\n",
    "\n",
    "# iq_gbr = GradientBoostingRegressor()\n",
    "# iq_param_grid = {'alpha':[0.7,0.8,0.9],'max_depth':[3,4,5,6],'min_samples_leaf':[1,2,3,4,5],'n_estimators':np.arange(100,500,100)}\n",
    "# iq_gs = GridSearchCV(estimator=iq_gbr,param_grid=iq_param_grid,cv=3)\n",
    "\n",
    "# iq_xgb = xgb.XGBRegressor()\n",
    "# iq_param_grid = {'max_depth':[3,4,5,6,7],'min_child_weight':np.arange(3,10,1),'n_estimators':np.arange(100,300,20)}\n",
    "# iq_gs = GridSearchCV(estimator=iq_xgb,param_grid=iq_param_grid,cv=3)\n",
    "\n",
    "# iq_cb = cb.CatBoostRegressor()\n",
    "# # iq_param_grid = {'learning_rate':[0.01,0.05,0.1,0.15],'l2_leaf_reg':[7,8,9],'iterations':np.arange(300,500,100),'depth':[5,6,7,8,9,10]}\n",
    "# iq_param_grid = {'learning_rate':[0.01],'l2_leaf_reg':[7],'iterations':[500],'depth':[7]}\n",
    "# iq_gs = GridSearchCV(estimator=iq_cb,param_grid=iq_param_grid,cv=3)\n",
    "\n",
    "iq_gs.fit(iq_train[iq_features], iq_train['total_cases'])\n",
    "print(iq_gs.best_params_)\n",
    "iq_prediction1 = iq_gs.predict(iq_test[iq_features])"
   ]
  },
  {
   "cell_type": "code",
   "execution_count": 316,
   "metadata": {},
   "outputs": [
    {
     "ename": "KeyError",
     "evalue": "\"['station_min_temp_creanalysis_specific_humidity_g_per_kg'] not in index\"",
     "output_type": "error",
     "traceback": [
      "\u001b[1;31m---------------------------------------------------------------------------\u001b[0m",
      "\u001b[1;31mKeyError\u001b[0m                                  Traceback (most recent call last)",
      "\u001b[1;32m<ipython-input-316-e08e1408a846>\u001b[0m in \u001b[0;36m<module>\u001b[1;34m\u001b[0m\n\u001b[0;32m     26\u001b[0m \u001b[1;31m# sj_gs = GridSearchCV(estimator=sj_cb,param_grid=sj_param_grid,cv=3)\u001b[0m\u001b[1;33m\u001b[0m\u001b[1;33m\u001b[0m\u001b[1;33m\u001b[0m\u001b[0m\n\u001b[0;32m     27\u001b[0m \u001b[1;33m\u001b[0m\u001b[0m\n\u001b[1;32m---> 28\u001b[1;33m \u001b[0msj_gs\u001b[0m\u001b[1;33m.\u001b[0m\u001b[0mfit\u001b[0m\u001b[1;33m(\u001b[0m\u001b[0msj_train\u001b[0m\u001b[1;33m[\u001b[0m\u001b[0msj_features\u001b[0m\u001b[1;33m]\u001b[0m\u001b[1;33m,\u001b[0m \u001b[0msj_train\u001b[0m\u001b[1;33m[\u001b[0m\u001b[1;34m'total_cases'\u001b[0m\u001b[1;33m]\u001b[0m\u001b[1;33m)\u001b[0m\u001b[1;33m\u001b[0m\u001b[1;33m\u001b[0m\u001b[0m\n\u001b[0m\u001b[0;32m     29\u001b[0m \u001b[0mprint\u001b[0m\u001b[1;33m(\u001b[0m\u001b[0msj_gs\u001b[0m\u001b[1;33m.\u001b[0m\u001b[0mbest_params_\u001b[0m\u001b[1;33m)\u001b[0m\u001b[1;33m\u001b[0m\u001b[1;33m\u001b[0m\u001b[0m\n\u001b[0;32m     30\u001b[0m \u001b[0msj_prediction1\u001b[0m\u001b[1;33m=\u001b[0m \u001b[0msj_gs\u001b[0m\u001b[1;33m.\u001b[0m\u001b[0mpredict\u001b[0m\u001b[1;33m(\u001b[0m\u001b[0msj_test\u001b[0m\u001b[1;33m[\u001b[0m\u001b[0msj_features\u001b[0m\u001b[1;33m]\u001b[0m\u001b[1;33m)\u001b[0m\u001b[1;33m\u001b[0m\u001b[1;33m\u001b[0m\u001b[0m\n",
      "\u001b[1;32mc:\\users\\jomin\\appdata\\local\\programs\\python\\python37\\lib\\site-packages\\pandas\\core\\frame.py\u001b[0m in \u001b[0;36m__getitem__\u001b[1;34m(self, key)\u001b[0m\n\u001b[0;32m   2932\u001b[0m                 \u001b[0mkey\u001b[0m \u001b[1;33m=\u001b[0m \u001b[0mlist\u001b[0m\u001b[1;33m(\u001b[0m\u001b[0mkey\u001b[0m\u001b[1;33m)\u001b[0m\u001b[1;33m\u001b[0m\u001b[1;33m\u001b[0m\u001b[0m\n\u001b[0;32m   2933\u001b[0m             indexer = self.loc._convert_to_indexer(key, axis=1,\n\u001b[1;32m-> 2934\u001b[1;33m                                                    raise_missing=True)\n\u001b[0m\u001b[0;32m   2935\u001b[0m \u001b[1;33m\u001b[0m\u001b[0m\n\u001b[0;32m   2936\u001b[0m         \u001b[1;31m# take() does not accept boolean indexers\u001b[0m\u001b[1;33m\u001b[0m\u001b[1;33m\u001b[0m\u001b[1;33m\u001b[0m\u001b[0m\n",
      "\u001b[1;32mc:\\users\\jomin\\appdata\\local\\programs\\python\\python37\\lib\\site-packages\\pandas\\core\\indexing.py\u001b[0m in \u001b[0;36m_convert_to_indexer\u001b[1;34m(self, obj, axis, is_setter, raise_missing)\u001b[0m\n\u001b[0;32m   1352\u001b[0m                 kwargs = {'raise_missing': True if is_setter else\n\u001b[0;32m   1353\u001b[0m                           raise_missing}\n\u001b[1;32m-> 1354\u001b[1;33m                 \u001b[1;32mreturn\u001b[0m \u001b[0mself\u001b[0m\u001b[1;33m.\u001b[0m\u001b[0m_get_listlike_indexer\u001b[0m\u001b[1;33m(\u001b[0m\u001b[0mobj\u001b[0m\u001b[1;33m,\u001b[0m \u001b[0maxis\u001b[0m\u001b[1;33m,\u001b[0m \u001b[1;33m**\u001b[0m\u001b[0mkwargs\u001b[0m\u001b[1;33m)\u001b[0m\u001b[1;33m[\u001b[0m\u001b[1;36m1\u001b[0m\u001b[1;33m]\u001b[0m\u001b[1;33m\u001b[0m\u001b[1;33m\u001b[0m\u001b[0m\n\u001b[0m\u001b[0;32m   1355\u001b[0m         \u001b[1;32melse\u001b[0m\u001b[1;33m:\u001b[0m\u001b[1;33m\u001b[0m\u001b[1;33m\u001b[0m\u001b[0m\n\u001b[0;32m   1356\u001b[0m             \u001b[1;32mtry\u001b[0m\u001b[1;33m:\u001b[0m\u001b[1;33m\u001b[0m\u001b[1;33m\u001b[0m\u001b[0m\n",
      "\u001b[1;32mc:\\users\\jomin\\appdata\\local\\programs\\python\\python37\\lib\\site-packages\\pandas\\core\\indexing.py\u001b[0m in \u001b[0;36m_get_listlike_indexer\u001b[1;34m(self, key, axis, raise_missing)\u001b[0m\n\u001b[0;32m   1159\u001b[0m         self._validate_read_indexer(keyarr, indexer,\n\u001b[0;32m   1160\u001b[0m                                     \u001b[0mo\u001b[0m\u001b[1;33m.\u001b[0m\u001b[0m_get_axis_number\u001b[0m\u001b[1;33m(\u001b[0m\u001b[0maxis\u001b[0m\u001b[1;33m)\u001b[0m\u001b[1;33m,\u001b[0m\u001b[1;33m\u001b[0m\u001b[1;33m\u001b[0m\u001b[0m\n\u001b[1;32m-> 1161\u001b[1;33m                                     raise_missing=raise_missing)\n\u001b[0m\u001b[0;32m   1162\u001b[0m         \u001b[1;32mreturn\u001b[0m \u001b[0mkeyarr\u001b[0m\u001b[1;33m,\u001b[0m \u001b[0mindexer\u001b[0m\u001b[1;33m\u001b[0m\u001b[1;33m\u001b[0m\u001b[0m\n\u001b[0;32m   1163\u001b[0m \u001b[1;33m\u001b[0m\u001b[0m\n",
      "\u001b[1;32mc:\\users\\jomin\\appdata\\local\\programs\\python\\python37\\lib\\site-packages\\pandas\\core\\indexing.py\u001b[0m in \u001b[0;36m_validate_read_indexer\u001b[1;34m(self, key, indexer, axis, raise_missing)\u001b[0m\n\u001b[0;32m   1250\u001b[0m             \u001b[1;32mif\u001b[0m \u001b[1;32mnot\u001b[0m\u001b[1;33m(\u001b[0m\u001b[0mself\u001b[0m\u001b[1;33m.\u001b[0m\u001b[0mname\u001b[0m \u001b[1;33m==\u001b[0m \u001b[1;34m'loc'\u001b[0m \u001b[1;32mand\u001b[0m \u001b[1;32mnot\u001b[0m \u001b[0mraise_missing\u001b[0m\u001b[1;33m)\u001b[0m\u001b[1;33m:\u001b[0m\u001b[1;33m\u001b[0m\u001b[1;33m\u001b[0m\u001b[0m\n\u001b[0;32m   1251\u001b[0m                 \u001b[0mnot_found\u001b[0m \u001b[1;33m=\u001b[0m \u001b[0mlist\u001b[0m\u001b[1;33m(\u001b[0m\u001b[0mset\u001b[0m\u001b[1;33m(\u001b[0m\u001b[0mkey\u001b[0m\u001b[1;33m)\u001b[0m \u001b[1;33m-\u001b[0m \u001b[0mset\u001b[0m\u001b[1;33m(\u001b[0m\u001b[0max\u001b[0m\u001b[1;33m)\u001b[0m\u001b[1;33m)\u001b[0m\u001b[1;33m\u001b[0m\u001b[1;33m\u001b[0m\u001b[0m\n\u001b[1;32m-> 1252\u001b[1;33m                 \u001b[1;32mraise\u001b[0m \u001b[0mKeyError\u001b[0m\u001b[1;33m(\u001b[0m\u001b[1;34m\"{} not in index\"\u001b[0m\u001b[1;33m.\u001b[0m\u001b[0mformat\u001b[0m\u001b[1;33m(\u001b[0m\u001b[0mnot_found\u001b[0m\u001b[1;33m)\u001b[0m\u001b[1;33m)\u001b[0m\u001b[1;33m\u001b[0m\u001b[1;33m\u001b[0m\u001b[0m\n\u001b[0m\u001b[0;32m   1253\u001b[0m \u001b[1;33m\u001b[0m\u001b[0m\n\u001b[0;32m   1254\u001b[0m             \u001b[1;31m# we skip the warning on Categorical/Interval\u001b[0m\u001b[1;33m\u001b[0m\u001b[1;33m\u001b[0m\u001b[1;33m\u001b[0m\u001b[0m\n",
      "\u001b[1;31mKeyError\u001b[0m: \"['station_min_temp_creanalysis_specific_humidity_g_per_kg'] not in index\""
     ]
    }
   ],
   "source": [
    "import warnings\n",
    "warnings.filterwarnings(\"ignore\")\n",
    "sj_lgbm = LGBMRegressor()\n",
    "sj_param_grid = {'max_depth': [3, 4, 5, 6, 7],'min_samples_leaf': np.arange(2,6,1),'min_samples_split':np.arange(2,6,1)}\n",
    "sj_gs = GridSearchCV(estimator=sj_lgbm,param_grid=sj_param_grid,cv=3)\n",
    "\n",
    "# sj_rf = RandomForestRegressor()\n",
    "# sj_param_grid = {'n_estimators':np.arange(100,500,100),'min_samples_leaf':np.arange(2,8,2),'max_depth':[2,3,4,5,6]}\n",
    "# sj_gs = GridSearchCV(estimator=sj_rf,param_grid=sj_param_grid,cv=3)\n",
    "\n",
    "# sj_svr = SVR()\n",
    "# sj_param_grid = {'C':[1,10,100,1000],'kernel':['rbf'],'gamma':[0.0001,0.001,0.005,0.01]}\n",
    "# sj_gs = GridSearchCV(estimator=sj_svr,param_grid=sj_param_grid,cv=3)\n",
    "\n",
    "# sj_gbr = GradientBoostingRegressor()\n",
    "# sj_param_grid = {'alpha':[0.7,0.8,0.9],'max_depth':[3,4,5,6,7],'min_samples_leaf':[1,2,3,4,5,6,7],'n_estimators':np.arange(100,300,100)}\n",
    "# sj_gs = GridSearchCV(estimator=sj_gbr,param_grid=sj_param_grid,cv=3)\n",
    "\n",
    "# sj_xgb = xgb.XGBRegressor()\n",
    "# sj_param_grid = {'max_depth':[3,4,5,6],'min_child_weight':np.arange(3,10,1),'n_estimators':np.arange(100,400,10)}\n",
    "# sj_gs = GridSearchCV(estimator=sj_xgb,param_grid=sj_param_grid,cv=3)\n",
    "\n",
    "# sj_cb = cb.CatBoostRegressor()\n",
    "# sj_param_grid = {'learning_rate':[0.01,0.05,0.1,0.15],'l2_leaf_reg':[7,8,9],'iterations':np.arange(300,500,100),'depth':[5,6,7,8,9,10]}\n",
    "# sj_param_grid = {'learning_rate':[0.01],'l2_leaf_reg':[7],'iterations':[500],'depth':[7]}\n",
    "# sj_gs = GridSearchCV(estimator=sj_cb,param_grid=sj_param_grid,cv=3)\n",
    "\n",
    "sj_gs.fit(sj_train[sj_features], sj_train['total_cases'])\n",
    "print(sj_gs.best_params_)\n",
    "sj_prediction1= sj_gs.predict(sj_test[sj_features])"
   ]
  },
  {
   "cell_type": "code",
   "execution_count": null,
   "metadata": {},
   "outputs": [],
   "source": [
    "iq_result = pd.DataFrame()\n",
    "sj_result = pd.DataFrame()\n",
    "iq_result[['city', 'year', 'weekofyear']] = iq_test[['city', 'year', 'weekofyear']]\n",
    "sj_result[['city', 'year', 'weekofyear']] = sj_test[['city', 'year', 'weekofyear']]"
   ]
  },
  {
   "cell_type": "code",
   "execution_count": null,
   "metadata": {},
   "outputs": [],
   "source": [
    "for i in range(len(iq_prediction1)):\n",
    "    if iq_prediction1[i] < 0:\n",
    "        iq_prediction1[i] = 0\n",
    "for i in range(len(sj_prediction1)):\n",
    "    if sj_prediction1[i] < 0:\n",
    "        sj_prediction1[i] = 0\n",
    "iq_result['total_cases'] = iq_prediction1\n",
    "sj_result['total_cases'] = sj_prediction1"
   ]
  },
  {
   "cell_type": "code",
   "execution_count": null,
   "metadata": {},
   "outputs": [],
   "source": [
    "# iq_result.head()\n",
    "# sj_result.head()"
   ]
  },
  {
   "cell_type": "code",
   "execution_count": null,
   "metadata": {},
   "outputs": [],
   "source": [
    "frames = [sj_result,iq_result]\n",
    "result = pd.concat(frames)"
   ]
  },
  {
   "cell_type": "code",
   "execution_count": null,
   "metadata": {},
   "outputs": [],
   "source": [
    "import math\n",
    "# for i in range(len(result['total_cases'])):\n",
    "#     result['total_cases'][i] = round(result['total_cases'][i])#四舍五入\n",
    "#     result['total_cases'][i] = math.floor(result['total_cases'][i])#向下取整\n",
    "    # math.ceil #向上取整\n",
    "result['total_cases'] = result['total_cases'].astype(int)\n",
    "result.to_csv('result.csv',index=None)"
   ]
  },
  {
   "cell_type": "code",
   "execution_count": null,
   "metadata": {},
   "outputs": [],
   "source": [
    "result.head()"
   ]
  },
  {
   "cell_type": "code",
   "execution_count": null,
   "metadata": {},
   "outputs": [],
   "source": []
  }
 ],
 "metadata": {
  "kernelspec": {
   "display_name": "Python 3",
   "language": "python",
   "name": "python3"
  },
  "language_info": {
   "codemirror_mode": {
    "name": "ipython",
    "version": 3
   },
   "file_extension": ".py",
   "mimetype": "text/x-python",
   "name": "python",
   "nbconvert_exporter": "python",
   "pygments_lexer": "ipython3",
   "version": "3.7.3"
  }
 },
 "nbformat": 4,
 "nbformat_minor": 2
}
